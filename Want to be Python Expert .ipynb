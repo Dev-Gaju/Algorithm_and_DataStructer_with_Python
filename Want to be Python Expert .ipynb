{
 "cells": [
  {
   "cell_type": "code",
   "execution_count": 4,
   "id": "916413dc",
   "metadata": {},
   "outputs": [],
   "source": [
    "class Polymomial:\n",
    "    def __init__(self, *coeffs):\n",
    "        self.coeffs = coeffs\n",
    "        \n",
    "    def __repr__(self):\n",
    "        return \"Polynomial(*{!r})\".format(self.coeffs)\n",
    "        \n",
    "\n",
    "p1= Polymomial(1,2,3)\n",
    "    "
   ]
  },
  {
   "cell_type": "code",
   "execution_count": 13,
   "id": "f25d6aa4",
   "metadata": {},
   "outputs": [],
   "source": [
    " #Metaclass   (used in django)\n",
    "\"\"\"decerator, generator, context (three part of metaclass)\n",
    "\"\"\"\n",
    "class Base:   #only used not change\n",
    "    def foo(self):\n",
    "        return 'foo'\n",
    "    \n"
   ]
  },
  {
   "cell_type": "code",
   "execution_count": 14,
   "id": "12d9c75a",
   "metadata": {},
   "outputs": [],
   "source": [
    "# from library import Base\n",
    "# Can used and modified\n",
    "assert hasattr(Base, 'foo'), \"you broke it yiu fool!\"\n",
    "class Derived(Base):\n",
    "    def bar(self):\n",
    "        return 'self.foo( )"
   ]
  },
  {
   "cell_type": "code",
   "execution_count": null,
   "id": "5076bb21",
   "metadata": {},
   "outputs": [],
   "source": []
  }
 ],
 "metadata": {
  "kernelspec": {
   "display_name": "Python 3 (ipykernel)",
   "language": "python",
   "name": "python3"
  },
  "language_info": {
   "codemirror_mode": {
    "name": "ipython",
    "version": 3
   },
   "file_extension": ".py",
   "mimetype": "text/x-python",
   "name": "python",
   "nbconvert_exporter": "python",
   "pygments_lexer": "ipython3",
   "version": "3.7.12"
  }
 },
 "nbformat": 4,
 "nbformat_minor": 5
}
